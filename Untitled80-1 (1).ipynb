{
 "cells": [
  {
   "cell_type": "code",
   "execution_count": 1,
   "metadata": {
    "id": "ZgeLxrgahoRp"
   },
   "outputs": [],
   "source": [
    "import pandas as pd"
   ]
  },
  {
   "cell_type": "code",
   "execution_count": 3,
   "metadata": {
    "id": "FpXmF71Okh29"
   },
   "outputs": [],
   "source": [
    "data = pd.read_csv(\"dataX.csv\")"
   ]
  },
  {
   "cell_type": "code",
   "execution_count": 5,
   "metadata": {
    "colab": {
     "base_uri": "https://localhost:8080/",
     "height": 206
    },
    "id": "00IaELoWk1LX",
    "outputId": "8f005479-d6a4-43c6-e770-42fb786ccbd4"
   },
   "outputs": [
    {
     "data": {
      "text/html": [
       "<div>\n",
       "<style scoped>\n",
       "    .dataframe tbody tr th:only-of-type {\n",
       "        vertical-align: middle;\n",
       "    }\n",
       "\n",
       "    .dataframe tbody tr th {\n",
       "        vertical-align: top;\n",
       "    }\n",
       "\n",
       "    .dataframe thead th {\n",
       "        text-align: right;\n",
       "    }\n",
       "</style>\n",
       "<table border=\"1\" class=\"dataframe\">\n",
       "  <thead>\n",
       "    <tr style=\"text-align: right;\">\n",
       "      <th></th>\n",
       "      <th>statement</th>\n",
       "      <th>status</th>\n",
       "    </tr>\n",
       "  </thead>\n",
       "  <tbody>\n",
       "    <tr>\n",
       "      <th>0</th>\n",
       "      <td>oh my gosh</td>\n",
       "      <td>Anxiety</td>\n",
       "    </tr>\n",
       "    <tr>\n",
       "      <th>1</th>\n",
       "      <td>trouble sleeping, confused mind, restless hear...</td>\n",
       "      <td>Anxiety</td>\n",
       "    </tr>\n",
       "    <tr>\n",
       "      <th>2</th>\n",
       "      <td>All wrong, back off dear, forward doubt. Stay ...</td>\n",
       "      <td>Anxiety</td>\n",
       "    </tr>\n",
       "    <tr>\n",
       "      <th>3</th>\n",
       "      <td>I've shifted my focus to something else but I'...</td>\n",
       "      <td>Anxiety</td>\n",
       "    </tr>\n",
       "    <tr>\n",
       "      <th>4</th>\n",
       "      <td>I'm restless and restless, it's been a month n...</td>\n",
       "      <td>Anxiety</td>\n",
       "    </tr>\n",
       "  </tbody>\n",
       "</table>\n",
       "</div>"
      ],
      "text/plain": [
       "                                           statement   status\n",
       "0                                         oh my gosh  Anxiety\n",
       "1  trouble sleeping, confused mind, restless hear...  Anxiety\n",
       "2  All wrong, back off dear, forward doubt. Stay ...  Anxiety\n",
       "3  I've shifted my focus to something else but I'...  Anxiety\n",
       "4  I'm restless and restless, it's been a month n...  Anxiety"
      ]
     },
     "execution_count": 5,
     "metadata": {},
     "output_type": "execute_result"
    }
   ],
   "source": [
    "data.head()"
   ]
  },
  {
   "cell_type": "code",
   "execution_count": 7,
   "metadata": {
    "colab": {
     "base_uri": "https://localhost:8080/"
    },
    "id": "EEr6TiXVk6hC",
    "outputId": "295a557c-c0ed-479b-aabb-4342d0a8e8dc"
   },
   "outputs": [
    {
     "data": {
      "text/plain": [
       "(53043, 2)"
      ]
     },
     "execution_count": 7,
     "metadata": {},
     "output_type": "execute_result"
    }
   ],
   "source": [
    "data.shape"
   ]
  },
  {
   "cell_type": "code",
   "execution_count": 9,
   "metadata": {
    "colab": {
     "base_uri": "https://localhost:8080/"
    },
    "id": "xzhS52YilN54",
    "outputId": "575a2c4e-3533-4ef8-9e1c-104ab9971536"
   },
   "outputs": [
    {
     "name": "stdout",
     "output_type": "stream",
     "text": [
      "statement    362\n",
      "status         0\n",
      "dtype: int64\n"
     ]
    }
   ],
   "source": [
    "print(data.isnull().sum())"
   ]
  },
  {
   "cell_type": "code",
   "execution_count": 11,
   "metadata": {
    "id": "6u8H8KoGrGse"
   },
   "outputs": [],
   "source": [
    "data = data.dropna()"
   ]
  },
  {
   "cell_type": "code",
   "execution_count": 13,
   "metadata": {
    "colab": {
     "base_uri": "https://localhost:8080/"
    },
    "id": "p3v7vW_8rK08",
    "outputId": "01300c21-ce9b-48b1-91b9-385ff791a0cc"
   },
   "outputs": [
    {
     "name": "stdout",
     "output_type": "stream",
     "text": [
      "statement    0\n",
      "status       0\n",
      "dtype: int64\n"
     ]
    }
   ],
   "source": [
    "print(data.isnull().sum())"
   ]
  },
  {
   "cell_type": "code",
   "execution_count": 15,
   "metadata": {
    "colab": {
     "base_uri": "https://localhost:8080/",
     "height": 424
    },
    "id": "DKUbgRCprMja",
    "outputId": "e2c25182-5a0f-4d09-95d9-2be0895ddfdd"
   },
   "outputs": [
    {
     "data": {
      "text/html": [
       "<div>\n",
       "<style scoped>\n",
       "    .dataframe tbody tr th:only-of-type {\n",
       "        vertical-align: middle;\n",
       "    }\n",
       "\n",
       "    .dataframe tbody tr th {\n",
       "        vertical-align: top;\n",
       "    }\n",
       "\n",
       "    .dataframe thead th {\n",
       "        text-align: right;\n",
       "    }\n",
       "</style>\n",
       "<table border=\"1\" class=\"dataframe\">\n",
       "  <thead>\n",
       "    <tr style=\"text-align: right;\">\n",
       "      <th></th>\n",
       "      <th>statement</th>\n",
       "      <th>status</th>\n",
       "    </tr>\n",
       "  </thead>\n",
       "  <tbody>\n",
       "    <tr>\n",
       "      <th>0</th>\n",
       "      <td>oh my gosh</td>\n",
       "      <td>Anxiety</td>\n",
       "    </tr>\n",
       "    <tr>\n",
       "      <th>1</th>\n",
       "      <td>trouble sleeping, confused mind, restless hear...</td>\n",
       "      <td>Anxiety</td>\n",
       "    </tr>\n",
       "    <tr>\n",
       "      <th>2</th>\n",
       "      <td>All wrong, back off dear, forward doubt. Stay ...</td>\n",
       "      <td>Anxiety</td>\n",
       "    </tr>\n",
       "    <tr>\n",
       "      <th>3</th>\n",
       "      <td>I've shifted my focus to something else but I'...</td>\n",
       "      <td>Anxiety</td>\n",
       "    </tr>\n",
       "    <tr>\n",
       "      <th>4</th>\n",
       "      <td>I'm restless and restless, it's been a month n...</td>\n",
       "      <td>Anxiety</td>\n",
       "    </tr>\n",
       "    <tr>\n",
       "      <th>...</th>\n",
       "      <td>...</td>\n",
       "      <td>...</td>\n",
       "    </tr>\n",
       "    <tr>\n",
       "      <th>53038</th>\n",
       "      <td>Nobody takes me seriously I’ve (24M) dealt wit...</td>\n",
       "      <td>Anxiety</td>\n",
       "    </tr>\n",
       "    <tr>\n",
       "      <th>53039</th>\n",
       "      <td>selfishness  \"I don't feel very good, it's lik...</td>\n",
       "      <td>Anxiety</td>\n",
       "    </tr>\n",
       "    <tr>\n",
       "      <th>53040</th>\n",
       "      <td>Is there any way to sleep better? I can't slee...</td>\n",
       "      <td>Anxiety</td>\n",
       "    </tr>\n",
       "    <tr>\n",
       "      <th>53041</th>\n",
       "      <td>Public speaking tips? Hi, all. I have to give ...</td>\n",
       "      <td>Anxiety</td>\n",
       "    </tr>\n",
       "    <tr>\n",
       "      <th>53042</th>\n",
       "      <td>I have really bad door anxiety! It's not about...</td>\n",
       "      <td>Anxiety</td>\n",
       "    </tr>\n",
       "  </tbody>\n",
       "</table>\n",
       "<p>52681 rows × 2 columns</p>\n",
       "</div>"
      ],
      "text/plain": [
       "                                               statement   status\n",
       "0                                             oh my gosh  Anxiety\n",
       "1      trouble sleeping, confused mind, restless hear...  Anxiety\n",
       "2      All wrong, back off dear, forward doubt. Stay ...  Anxiety\n",
       "3      I've shifted my focus to something else but I'...  Anxiety\n",
       "4      I'm restless and restless, it's been a month n...  Anxiety\n",
       "...                                                  ...      ...\n",
       "53038  Nobody takes me seriously I’ve (24M) dealt wit...  Anxiety\n",
       "53039  selfishness  \"I don't feel very good, it's lik...  Anxiety\n",
       "53040  Is there any way to sleep better? I can't slee...  Anxiety\n",
       "53041  Public speaking tips? Hi, all. I have to give ...  Anxiety\n",
       "53042  I have really bad door anxiety! It's not about...  Anxiety\n",
       "\n",
       "[52681 rows x 2 columns]"
      ]
     },
     "execution_count": 15,
     "metadata": {},
     "output_type": "execute_result"
    }
   ],
   "source": [
    "data"
   ]
  },
  {
   "cell_type": "code",
   "execution_count": 17,
   "metadata": {
    "id": "D3bHNppEmhnb"
   },
   "outputs": [],
   "source": [
    "data['statement'] = data['statement'].str.lower()"
   ]
  },
  {
   "cell_type": "code",
   "execution_count": 19,
   "metadata": {
    "colab": {
     "base_uri": "https://localhost:8080/",
     "height": 424
    },
    "id": "bliU_SD6mv2x",
    "outputId": "7dc7e4a6-3717-4cdf-da15-1abd1e7113b3"
   },
   "outputs": [
    {
     "data": {
      "text/html": [
       "<div>\n",
       "<style scoped>\n",
       "    .dataframe tbody tr th:only-of-type {\n",
       "        vertical-align: middle;\n",
       "    }\n",
       "\n",
       "    .dataframe tbody tr th {\n",
       "        vertical-align: top;\n",
       "    }\n",
       "\n",
       "    .dataframe thead th {\n",
       "        text-align: right;\n",
       "    }\n",
       "</style>\n",
       "<table border=\"1\" class=\"dataframe\">\n",
       "  <thead>\n",
       "    <tr style=\"text-align: right;\">\n",
       "      <th></th>\n",
       "      <th>statement</th>\n",
       "      <th>status</th>\n",
       "    </tr>\n",
       "  </thead>\n",
       "  <tbody>\n",
       "    <tr>\n",
       "      <th>0</th>\n",
       "      <td>oh my gosh</td>\n",
       "      <td>Anxiety</td>\n",
       "    </tr>\n",
       "    <tr>\n",
       "      <th>1</th>\n",
       "      <td>trouble sleeping, confused mind, restless hear...</td>\n",
       "      <td>Anxiety</td>\n",
       "    </tr>\n",
       "    <tr>\n",
       "      <th>2</th>\n",
       "      <td>all wrong, back off dear, forward doubt. stay ...</td>\n",
       "      <td>Anxiety</td>\n",
       "    </tr>\n",
       "    <tr>\n",
       "      <th>3</th>\n",
       "      <td>i've shifted my focus to something else but i'...</td>\n",
       "      <td>Anxiety</td>\n",
       "    </tr>\n",
       "    <tr>\n",
       "      <th>4</th>\n",
       "      <td>i'm restless and restless, it's been a month n...</td>\n",
       "      <td>Anxiety</td>\n",
       "    </tr>\n",
       "    <tr>\n",
       "      <th>...</th>\n",
       "      <td>...</td>\n",
       "      <td>...</td>\n",
       "    </tr>\n",
       "    <tr>\n",
       "      <th>53038</th>\n",
       "      <td>nobody takes me seriously i’ve (24m) dealt wit...</td>\n",
       "      <td>Anxiety</td>\n",
       "    </tr>\n",
       "    <tr>\n",
       "      <th>53039</th>\n",
       "      <td>selfishness  \"i don't feel very good, it's lik...</td>\n",
       "      <td>Anxiety</td>\n",
       "    </tr>\n",
       "    <tr>\n",
       "      <th>53040</th>\n",
       "      <td>is there any way to sleep better? i can't slee...</td>\n",
       "      <td>Anxiety</td>\n",
       "    </tr>\n",
       "    <tr>\n",
       "      <th>53041</th>\n",
       "      <td>public speaking tips? hi, all. i have to give ...</td>\n",
       "      <td>Anxiety</td>\n",
       "    </tr>\n",
       "    <tr>\n",
       "      <th>53042</th>\n",
       "      <td>i have really bad door anxiety! it's not about...</td>\n",
       "      <td>Anxiety</td>\n",
       "    </tr>\n",
       "  </tbody>\n",
       "</table>\n",
       "<p>52681 rows × 2 columns</p>\n",
       "</div>"
      ],
      "text/plain": [
       "                                               statement   status\n",
       "0                                             oh my gosh  Anxiety\n",
       "1      trouble sleeping, confused mind, restless hear...  Anxiety\n",
       "2      all wrong, back off dear, forward doubt. stay ...  Anxiety\n",
       "3      i've shifted my focus to something else but i'...  Anxiety\n",
       "4      i'm restless and restless, it's been a month n...  Anxiety\n",
       "...                                                  ...      ...\n",
       "53038  nobody takes me seriously i’ve (24m) dealt wit...  Anxiety\n",
       "53039  selfishness  \"i don't feel very good, it's lik...  Anxiety\n",
       "53040  is there any way to sleep better? i can't slee...  Anxiety\n",
       "53041  public speaking tips? hi, all. i have to give ...  Anxiety\n",
       "53042  i have really bad door anxiety! it's not about...  Anxiety\n",
       "\n",
       "[52681 rows x 2 columns]"
      ]
     },
     "execution_count": 19,
     "metadata": {},
     "output_type": "execute_result"
    }
   ],
   "source": [
    "data"
   ]
  },
  {
   "cell_type": "code",
   "execution_count": 21,
   "metadata": {
    "id": "lnqpLYfOnvhl"
   },
   "outputs": [],
   "source": [
    "import re\n",
    "\n",
    "# Function to remove HTML tags\n",
    "def remove_html_tags(text):\n",
    "    if isinstance(text, str):  # Ensure it's a string before processing\n",
    "        return re.sub(r'<.*?>', '', text)\n",
    "    return text  # Return as is if it's not a string"
   ]
  },
  {
   "cell_type": "code",
   "execution_count": 23,
   "metadata": {
    "id": "yeKaCCPlpF7_"
   },
   "outputs": [],
   "source": [
    "# Apply the function safely\n",
    "data['statement'] = data['statement'].apply(remove_html_tags)\n",
    "data['status'] = data['status'].apply(remove_html_tags)"
   ]
  },
  {
   "cell_type": "code",
   "execution_count": 25,
   "metadata": {
    "id": "a3blm1crrpN5"
   },
   "outputs": [],
   "source": [
    "import pandas as pd\n",
    "import re\n",
    "\n",
    "# Function to remove URLs\n",
    "def remove_url(text):\n",
    "    if isinstance(text, str):  # Ensure it's a string before processing\n",
    "        pattern = re.compile(r'https?://\\S+|www\\.\\S+')\n",
    "        return pattern.sub(r'', text)\n",
    "    return text  # Return as is if it's not a string"
   ]
  },
  {
   "cell_type": "code",
   "execution_count": 27,
   "metadata": {
    "id": "IH0buoZsrq2r"
   },
   "outputs": [],
   "source": [
    "# Apply the function safely\n",
    "data['statement'] = data['statement'].apply(remove_url)\n"
   ]
  },
  {
   "cell_type": "code",
   "execution_count": 29,
   "metadata": {
    "colab": {
     "base_uri": "https://localhost:8080/",
     "height": 36
    },
    "id": "BHrh-gdysE64",
    "outputId": "82f753d9-ef11-4954-bcdf-755dfc4f23be"
   },
   "outputs": [
    {
     "data": {
      "text/plain": [
       "'!\"#$%&\\'()*+,-./:;<=>?@[\\\\]^_`{|}~'"
      ]
     },
     "execution_count": 29,
     "metadata": {},
     "output_type": "execute_result"
    }
   ],
   "source": [
    "import string,time\n",
    "\n",
    "string.punctuation"
   ]
  },
  {
   "cell_type": "code",
   "execution_count": 31,
   "metadata": {
    "colab": {
     "base_uri": "https://localhost:8080/",
     "height": 36
    },
    "id": "dQMFy8k7sMVj",
    "outputId": "5914f713-259b-4aa6-db29-323ddcf3e267"
   },
   "outputs": [
    {
     "data": {
      "text/plain": [
       "'!\"#$%&\\'()*+,-./:;<=>?@[\\\\]^_`{|}~'"
      ]
     },
     "execution_count": 31,
     "metadata": {},
     "output_type": "execute_result"
    }
   ],
   "source": [
    "exclude = string.punctuation\n",
    "\n",
    "exclude"
   ]
  },
  {
   "cell_type": "code",
   "execution_count": 33,
   "metadata": {
    "id": "ADiFSthdsOgG"
   },
   "outputs": [],
   "source": [
    "def remove_punc(text):\n",
    "    if isinstance(text, str):  # Ensure it's a string before processing\n",
    "        exclude = string.punctuation  # Get all punctuation characters\n",
    "        return text.translate(str.maketrans('', '', exclude))  # Remove punctuation\n",
    "    return text  # Return as is if it's not a string"
   ]
  },
  {
   "cell_type": "code",
   "execution_count": 35,
   "metadata": {
    "id": "-ecSswd-s2wS"
   },
   "outputs": [],
   "source": [
    "data['statement'] = data['statement'].apply(remove_punc)"
   ]
  },
  {
   "cell_type": "code",
   "execution_count": 37,
   "metadata": {
    "colab": {
     "base_uri": "https://localhost:8080/",
     "height": 424
    },
    "id": "nA3B0xMttsYH",
    "outputId": "306bd1a6-6002-44aa-9713-9d6ff248cad4"
   },
   "outputs": [
    {
     "data": {
      "text/html": [
       "<div>\n",
       "<style scoped>\n",
       "    .dataframe tbody tr th:only-of-type {\n",
       "        vertical-align: middle;\n",
       "    }\n",
       "\n",
       "    .dataframe tbody tr th {\n",
       "        vertical-align: top;\n",
       "    }\n",
       "\n",
       "    .dataframe thead th {\n",
       "        text-align: right;\n",
       "    }\n",
       "</style>\n",
       "<table border=\"1\" class=\"dataframe\">\n",
       "  <thead>\n",
       "    <tr style=\"text-align: right;\">\n",
       "      <th></th>\n",
       "      <th>statement</th>\n",
       "      <th>status</th>\n",
       "    </tr>\n",
       "  </thead>\n",
       "  <tbody>\n",
       "    <tr>\n",
       "      <th>0</th>\n",
       "      <td>oh my gosh</td>\n",
       "      <td>Anxiety</td>\n",
       "    </tr>\n",
       "    <tr>\n",
       "      <th>1</th>\n",
       "      <td>trouble sleeping confused mind restless heart ...</td>\n",
       "      <td>Anxiety</td>\n",
       "    </tr>\n",
       "    <tr>\n",
       "      <th>2</th>\n",
       "      <td>all wrong back off dear forward doubt stay in ...</td>\n",
       "      <td>Anxiety</td>\n",
       "    </tr>\n",
       "    <tr>\n",
       "      <th>3</th>\n",
       "      <td>ive shifted my focus to something else but im ...</td>\n",
       "      <td>Anxiety</td>\n",
       "    </tr>\n",
       "    <tr>\n",
       "      <th>4</th>\n",
       "      <td>im restless and restless its been a month now ...</td>\n",
       "      <td>Anxiety</td>\n",
       "    </tr>\n",
       "    <tr>\n",
       "      <th>...</th>\n",
       "      <td>...</td>\n",
       "      <td>...</td>\n",
       "    </tr>\n",
       "    <tr>\n",
       "      <th>53038</th>\n",
       "      <td>nobody takes me seriously i’ve 24m dealt with ...</td>\n",
       "      <td>Anxiety</td>\n",
       "    </tr>\n",
       "    <tr>\n",
       "      <th>53039</th>\n",
       "      <td>selfishness  i dont feel very good its like i ...</td>\n",
       "      <td>Anxiety</td>\n",
       "    </tr>\n",
       "    <tr>\n",
       "      <th>53040</th>\n",
       "      <td>is there any way to sleep better i cant sleep ...</td>\n",
       "      <td>Anxiety</td>\n",
       "    </tr>\n",
       "    <tr>\n",
       "      <th>53041</th>\n",
       "      <td>public speaking tips hi all i have to give a p...</td>\n",
       "      <td>Anxiety</td>\n",
       "    </tr>\n",
       "    <tr>\n",
       "      <th>53042</th>\n",
       "      <td>i have really bad door anxiety its not about b...</td>\n",
       "      <td>Anxiety</td>\n",
       "    </tr>\n",
       "  </tbody>\n",
       "</table>\n",
       "<p>52681 rows × 2 columns</p>\n",
       "</div>"
      ],
      "text/plain": [
       "                                               statement   status\n",
       "0                                             oh my gosh  Anxiety\n",
       "1      trouble sleeping confused mind restless heart ...  Anxiety\n",
       "2      all wrong back off dear forward doubt stay in ...  Anxiety\n",
       "3      ive shifted my focus to something else but im ...  Anxiety\n",
       "4      im restless and restless its been a month now ...  Anxiety\n",
       "...                                                  ...      ...\n",
       "53038  nobody takes me seriously i’ve 24m dealt with ...  Anxiety\n",
       "53039  selfishness  i dont feel very good its like i ...  Anxiety\n",
       "53040  is there any way to sleep better i cant sleep ...  Anxiety\n",
       "53041  public speaking tips hi all i have to give a p...  Anxiety\n",
       "53042  i have really bad door anxiety its not about b...  Anxiety\n",
       "\n",
       "[52681 rows x 2 columns]"
      ]
     },
     "execution_count": 37,
     "metadata": {},
     "output_type": "execute_result"
    }
   ],
   "source": [
    "data"
   ]
  },
  {
   "cell_type": "code",
   "execution_count": 39,
   "metadata": {
    "colab": {
     "base_uri": "https://localhost:8080/"
    },
    "id": "sH5wKFi8tHWX",
    "outputId": "84917e23-4b30-46f3-9bde-fbe641497f28"
   },
   "outputs": [
    {
     "data": {
      "text/plain": [
       "{'LOL': 'Laugh Out Loud',\n",
       " 'BRB': 'Be Right Back',\n",
       " 'IDK': \"I Don't Know\",\n",
       " 'IMO': 'In My Opinion',\n",
       " 'BTW': 'By The Way',\n",
       " 'TTYL': 'Talk To You Later',\n",
       " 'OMG': 'Oh My God',\n",
       " 'FYI': 'For Your Information',\n",
       " 'ASAP': 'As Soon As Possible',\n",
       " 'GTG': 'Got To Go',\n",
       " 'TTYT': 'Talk To You Tomorrow',\n",
       " 'TMI': 'Too Much Information',\n",
       " 'IMHO': 'In My Humble Opinion',\n",
       " 'ICYMI': 'In Case You Missed It',\n",
       " 'AFAIK': 'As Far As I Know',\n",
       " 'FAQ': 'Frequently Asked Questions',\n",
       " 'TGIF': \"Thank God It's Friday\",\n",
       " 'FYA': 'For Your Action'}"
      ]
     },
     "execution_count": 39,
     "metadata": {},
     "output_type": "execute_result"
    }
   ],
   "source": [
    "chat_words = {\n",
    "\n",
    "    'AFAIK':'As Far As I Know',\n",
    "\n",
    "    'AFK':'Away From Keyboard',\n",
    "\n",
    "    'ASAP':'As Soon As Possible'\n",
    "\n",
    "\n",
    "}\n",
    "\n",
    "\n",
    "\n",
    "\n",
    "\n",
    "{\n",
    "    \"LOL\": \"laugh out loud\",\n",
    "    \"BRB\": \"be right back\",\n",
    "    \"IDK\": \"I don't know\",\n",
    "    \"IMO\": \"in my opinion\",\n",
    "    \"BTW\": \"by the way\",\n",
    "    \"TTYL\": \"talk to you later\",\n",
    "    \"OMG\": \"oh my god\",\n",
    "    \"FYI\": \"For Your Information\",\n",
    "\n",
    "    \"ASAP\": \"As Soon As Possible\",\n",
    "\n",
    "    \"BRB\": \"Be Right Back\",\n",
    "\n",
    "    \"BTW\": \"By The Way\",\n",
    "\n",
    "    \"OMG\": \"Oh My God\",\n",
    "\n",
    "    \"IMO\": \"In My Opinion\",\n",
    "\n",
    "    \"LOL\": \"Laugh Out Loud\",\n",
    "\n",
    "    \"TTYL\": \"Talk To You Later\",\n",
    "\n",
    "    \"GTG\": \"Got To Go\",\n",
    "\n",
    "    \"TTYT\": \"Talk To You Tomorrow\",\n",
    "\n",
    "    \"IDK\": \"I Don't Know\",\n",
    "\n",
    "    \"TMI\": \"Too Much Information\",\n",
    "\n",
    "    \"IMHO\": \"In My Humble Opinion\",\n",
    "\n",
    "    \"ICYMI\": \"In Case You Missed It\",\n",
    "\n",
    "    \"AFAIK\": \"As Far As I Know\",\n",
    "\n",
    "    \"BTW\": \"By The Way\",\n",
    "\n",
    "    \"FAQ\": \"Frequently Asked Questions\",\n",
    "\n",
    "    \"TGIF\": \"Thank God It's Friday\",\n",
    "\n",
    "    \"FYA\": \"For Your Action\",\n",
    "\n",
    "    \"ICYMI\": \"In Case You Missed It\",\n",
    "\n",
    "}"
   ]
  },
  {
   "cell_type": "code",
   "execution_count": 41,
   "metadata": {
    "id": "PHWBjq9fxj4J"
   },
   "outputs": [],
   "source": [
    "def chat_conversion(text):\n",
    "    if isinstance(text, str):  # Ensure it's a string before processing\n",
    "        new_text = []\n",
    "        for w in text.split():\n",
    "            if w.upper() in chat_words:  # Convert chat words\n",
    "                new_text.append(chat_words[w.upper()])\n",
    "            else:\n",
    "                new_text.append(w)\n",
    "        return \" \".join(new_text)\n",
    "    return text  # Return as is if it's not a string"
   ]
  },
  {
   "cell_type": "code",
   "execution_count": 43,
   "metadata": {
    "id": "mImRZN_VyNn8"
   },
   "outputs": [],
   "source": [
    "data['statement'] = data['statement'].apply(chat_conversion)"
   ]
  },
  {
   "cell_type": "code",
   "execution_count": 45,
   "metadata": {
    "colab": {
     "base_uri": "https://localhost:8080/"
    },
    "id": "MytpbStb2Y_6",
    "outputId": "386b2512-fc10-4bdd-d373-8d95217c1039"
   },
   "outputs": [
    {
     "name": "stderr",
     "output_type": "stream",
     "text": [
      "[nltk_data] Downloading package stopwords to\n",
      "[nltk_data]     C:\\Users\\layla\\AppData\\Roaming\\nltk_data...\n",
      "[nltk_data]   Package stopwords is already up-to-date!\n"
     ]
    }
   ],
   "source": [
    "import pandas as pd\n",
    "import nltk\n",
    "from nltk.corpus import stopwords\n",
    "\n",
    "# Download stopwords if not already downloaded\n",
    "nltk.download('stopwords')\n",
    "\n",
    "# Define stop words list\n",
    "stop_words = set(stopwords.words('english'))\n",
    "\n",
    "# Function to remove stop words\n",
    "def remove_stopwords(text):\n",
    "    if isinstance(text, str):  # Ensure it's a string before processing\n",
    "        words = text.split()\n",
    "        filtered_words = [word for word in words if word.lower() not in stop_words]  # Remove stop words\n",
    "        return \" \".join(filtered_words)\n",
    "    return text  # Return as is if it's not a string\n",
    "\n",
    "# Sample DataFrame\n",
    "\n",
    "\n",
    "# Apply the function safely\n",
    "data['statement'] = data['statement'].apply(remove_stopwords)\n",
    "\n"
   ]
  },
  {
   "cell_type": "code",
   "execution_count": 46,
   "metadata": {
    "colab": {
     "base_uri": "https://localhost:8080/"
    },
    "id": "CMH9M2fK67NA",
    "outputId": "fbe01b2d-58ca-441b-a086-0b1a2f92425d"
   },
   "outputs": [
    {
     "name": "stderr",
     "output_type": "stream",
     "text": [
      "[nltk_data] Downloading package punkt_tab to\n",
      "[nltk_data]     C:\\Users\\layla\\AppData\\Roaming\\nltk_data...\n",
      "[nltk_data]   Package punkt_tab is already up-to-date!\n"
     ]
    },
    {
     "data": {
      "text/plain": [
       "True"
      ]
     },
     "execution_count": 46,
     "metadata": {},
     "output_type": "execute_result"
    }
   ],
   "source": [
    "nltk.download('punkt_tab')"
   ]
  },
  {
   "cell_type": "code",
   "execution_count": 49,
   "metadata": {
    "id": "09Zgkd-w4RQY"
   },
   "outputs": [],
   "source": [
    "import pandas as pd\n",
    "import nltk\n",
    "from nltk.tokenize import word_tokenize\n",
    "from nltk.stem import PorterStemmer\n",
    "\n",
    "\n",
    "\n",
    "# Initialize Porter Stemmer\n",
    "stemmer = PorterStemmer()\n",
    "\n",
    "# Function for tokenization and stemming\n",
    "def tokenize_and_stem(text):\n",
    "    if isinstance(text, str):  # Ensure it's a string before processing\n",
    "        tokens = word_tokenize(text)  # Tokenization\n",
    "        stemmed_words = [stemmer.stem(word) for word in tokens]  # Stemming\n",
    "        return \" \".join(stemmed_words)\n",
    "    return text  # Return as is if it's not a string\n",
    "\n",
    "\n",
    "\n",
    "# Apply the function safely\n",
    "data['statement'] = data['statement'].apply(tokenize_and_stem)\n"
   ]
  },
  {
   "cell_type": "code",
   "execution_count": 50,
   "metadata": {
    "id": "Q7oodJ7j9LCo"
   },
   "outputs": [],
   "source": [
    "# Saving the DataFrame to a CSV file\n",
    "data.to_csv('processed_data.csv', index=False)"
   ]
  },
  {
   "cell_type": "code",
   "execution_count": 51,
   "metadata": {
    "id": "XiJglUvLhPCB"
   },
   "outputs": [],
   "source": [
    "emoji_dict = {\n",
    "    # Original entries\n",
    "    \"😀\": \"HAPPY\", \"😊\": \"HAPPY\", \"😎\": \"COOL\", \"🤗\": \"HUG\", \"😌\": \"RELAXED\",\n",
    "    \"🙃\": \"AMUSED\", \"💪\": \"STRENGTH\", \"😟\": \"WORRIED\", \"😱\": \"PANIC\",\n",
    "    \"😭\": \"SAD\", \"😰\": \"ANXIOUS\", \"😩\": \"FRUSTRATED\", \"😔\": \"DISAPPOINTED\",\n",
    "    \"😧\": \"UNEASY\", \"😒\": \"DISPLEASED\", \"😤\": \"FRUSTRATED\", \"🫣\": \"EMBARRASSED\",\n",
    "    \"🤯\": \"EXTREME STRESS\", \"🤔\": \"CONFUSED\", \"😢\": \"SAD\", \"💔\": \"HEARTBROKEN\",\n",
    "    \"😕\": \"CONFUSED\", \"😵\": \"SHOCKED\", \"😲\": \"SURPRISED\", \"😡\": \"ANGRY\",\n",
    "    \"👻\": \"SCARED\", \"💃\": \"DANCING\",\n",
    "\n",
    "    # New additions\n",
    "    \"😍\": \"LOVE\", \"🤩\": \"EXCITED\", \"😨\": \"FEAR\", \"😬\": \"PAIN\", \"😪\": \"TIRED\",\n",
    "    \"😷\": \"SICK\", \"🥵\": \"HOT\", \"🥶\": \"COLD\", \"🥴\": \"DRUNK\", \"😈\": \"MISCHIEVOUS\",\n",
    "    \"👹\": \"MONSTER\", \"👺\": \"EVIL\", \"🤠\": \"ADVENTUROUS\", \"🥳\": \"CELEBRATING\",\n",
    "    \"🤑\": \"GREEDY\", \"😑\": \"UNIMPRESSED\", \"😶\": \"SPEECHLESS\", \"😐\": \"NEUTRAL\",\n",
    "    \"🙄\": \"SARCASM\", \"😏\": \"SMUG\", \"🤤\": \"HUNGRY\", \"😋\": \"TASTY\", \"🥱\": \"BORED\",\n",
    "    \"🤫\": \"SECRETIVE\", \"🤭\": \"SURPRISED\", \"🧐\": \"CURIOUS\", \"😮‍💨\": \"RELIEF\",\n",
    "    \"😵💫\": \"DIZZY\", \"🥺\": \"PLEADING\", \"🙏\": \"PRAYING\", \"✨\": \"MAGIC\",\n",
    "    \"❤️\": \"LOVE\", \"💥\": \"EXPLOSION\", \"💫\": \"DIZZY\", \"🎉\": \"CELEBRATE\",\n",
    "    \"🍕\": \"HUNGRY\", \"☕\": \"CAFFEINE\", \"🐶\": \"PET\", \"🐱\": \"CAT\", \"🌞\": \"SUNNY\",\n",
    "    \"🌧️\": \"RAINY\", \"🌈\": \"HOPE\", \"🎂\": \"BIRTHDAY\", \"🎓\": \"GRADUATE\",\n",
    "    \"🏆\": \"WIN\", \"⚽\": \"SPORTS\", \"🏋️\": \"WORKOUT\", \"🧘\": \"ZEN\", \"🚀\": \"LAUNCH\",\n",
    "    \"💡\": \"IDEA\", \"🔥\": \"FIRE\", \"🕶️\": \"COOL\", \"🎧\": \"MUSIC\", \"🎮\": \"GAMING\",\n",
    "    \"📚\": \"STUDYING\", \"🛌\": \"REST\"\n",
    "}"
   ]
  },
  {
   "cell_type": "code",
   "execution_count": 52,
   "metadata": {
    "id": "hqSZvB1VhVHM"
   },
   "outputs": [],
   "source": [
    "def replace_emojis_with_labels(text):\n",
    "    if isinstance(text, str):\n",
    "        # Remplacer les emojis par des labels\n",
    "        for emoji, label in emoji_dict.items():\n",
    "            text = text.replace(emoji, f\" {label} \")\n",
    "        return text\n",
    "    return text\n",
    "#application\n",
    "data['statement'] = data['statement'].apply(replace_emojis_with_labels)"
   ]
  },
  {
   "cell_type": "code",
   "execution_count": 57,
   "metadata": {
    "colab": {
     "base_uri": "https://localhost:8080/",
     "height": 657
    },
    "id": "OPH_ix7tiA_Q",
    "outputId": "316d9b34-3cf1-41aa-f491-a093fd82b53e"
   },
   "outputs": [
    {
     "name": "stderr",
     "output_type": "stream",
     "text": [
      "C:\\Users\\layla\\AppData\\Local\\Temp\\ipykernel_4140\\2298110514.py:5: FutureWarning: \n",
      "\n",
      "Passing `palette` without assigning `hue` is deprecated and will be removed in v0.14.0. Assign the `x` variable to `hue` and set `legend=False` for the same effect.\n",
      "\n",
      "  sns.countplot(data=data, x='status', palette='viridis')\n"
     ]
    },
    {
     "data": {
      "image/png": "[encoded data removed]",
      "text/plain": [
       "<Figure size 1200x600 with 1 Axes>"
      ]
     },
     "metadata": {},
     "output_type": "display_data"
    }
   ],
   "source": [
    "import matplotlib.pyplot as plt\n",
    "import seaborn as sns\n",
    "\n",
    "plt.figure(figsize=(12,6))\n",
    "sns.countplot(data=data, x='status', palette='viridis')\n",
    "\n",
    "plt.title('Distribution des panic', fontsize=16)\n",
    "plt.xlabel('status', fontsize=12)\n",
    "plt.ylabel('Nombre de cas', fontsize=12)\n",
    "\n",
    "# Afficher le graphique\n",
    "plt.show()"
   ]
  },
  {
   "cell_type": "code",
   "execution_count": 59,
   "metadata": {
    "colab": {
     "base_uri": "https://localhost:8080/",
     "height": 523
    },
    "id": "Qpfvu23oigck",
    "outputId": "6610e2c5-19ac-4f9e-d168-ad1d9dbab4dc"
   },
   "outputs": [
    {
     "data": {
      "image/png": "[encoded data removed]",
      "text/plain": [
       "<Figure size 800x600 with 1 Axes>"
      ]
     },
     "metadata": {},
     "output_type": "display_data"
    }
   ],
   "source": [
    "# Compter la distribution des niveaux de stress\n",
    "stress_level_counts = data['status'].value_counts()\n",
    "\n",
    "# Créer un pie chart\n",
    "plt.figure(figsize=(8,6))\n",
    "stress_level_counts.plot(kind='pie', autopct='%1.1f%%', colors=['#66b3ff', '#99ff99', '#ff9999','#ff66b3','#66ffcc','#cc99ff','#ffcc66'], startangle=180)\n",
    "\n",
    "# Ajouter un titre\n",
    "plt.title('Proportion des niveaux de stress', fontsize=16)\n",
    "\n",
    "# Afficher le graphique\n",
    "plt.ylabel('')  # Ne pas afficher de label pour le pie chart\n",
    "plt.show()"
   ]
  },
  {
   "cell_type": "code",
   "execution_count": 61,
   "metadata": {},
   "outputs": [],
   "source": [
    "# Saving the DataFrame to a CSV file\n",
    "data.to_csv('dataX1.csv', index=False)"
   ]
  }
 ],
 "metadata": {
  "colab": {
   "provenance": []
  },
  "kernelspec": {
   "display_name": "Python 3 (ipykernel)",
   "language": "python",
   "name": "python3"
  },
  "language_info": {
   "codemirror_mode": {
    "name": "ipython",
    "version": 3
   },
   "file_extension": ".py",
   "mimetype": "text/x-python",
   "name": "python",
   "nbconvert_exporter": "python",
   "pygments_lexer": "ipython3",
   "version": "3.12.4"
  }
 },
 "nbformat": 4,
 "nbformat_minor": 4
}
